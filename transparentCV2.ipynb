{
  "nbformat": 4,
  "nbformat_minor": 0,
  "metadata": {
    "colab": {
      "provenance": []
    },
    "kernelspec": {
      "name": "python3",
      "display_name": "Python 3"
    },
    "language_info": {
      "name": "python"
    }
  },
  "cells": [
    {
      "cell_type": "markdown",
      "source": [
        "# Make Transparent Sepecific Color using CV2"
      ],
      "metadata": {
        "id": "vDZYx48GHXI_"
      }
    },
    {
      "cell_type": "code",
      "execution_count": null,
      "metadata": {
        "id": "mMgDd5oiHLeu"
      },
      "outputs": [],
      "source": [
        "# Libraries\n",
        "\n",
        "import cv2 as cv\n",
        "import numpy as np\n",
        "# import time as t"
      ]
    },
    {
      "cell_type": "code",
      "source": [
        "# Pre Recording Env\n",
        "\n",
        "def preRecord(cap):\n",
        "  for _ in range(30):\n",
        "    ret, background = cap.read()\n",
        "    if not ret:\n",
        "      print(\"Can't capture background frame.\")\n",
        "      return\n",
        "  return background"
      ],
      "metadata": {
        "id": "MHsx9_vuHk86"
      },
      "execution_count": null,
      "outputs": []
    },
    {
      "cell_type": "code",
      "source": [
        "# Main Function\n",
        "\n",
        "def run_app():\n",
        "    cap = cv.VideoCapture(0)\n",
        "    if not cap.isOpened():\n",
        "        print(\"Camera not accessible.\")\n",
        "        return\n",
        "\n",
        "    ######### Pre-Recorded BG #########\n",
        "    background = preRecord(cap)\n",
        "    background = cv.flip(background, 1)\n",
        "\n",
        "    ######### Main #############\n",
        "    default_color = \"blue\"\n",
        "\n",
        "    hsvRanges = {\n",
        "        \"blue\": (np.array([90,50,50]), np.array([130,255,255])),\n",
        "    }\n",
        "\n",
        "    while True:\n",
        "        ret, frame = cap.read()\n",
        "        if not ret:\n",
        "            print(\"Can't receive frame (stream end?). Exiting ...\")\n",
        "            break\n",
        "\n",
        "        frame = cv.flip(frame, flipCode=1)\n",
        "        # gray = cv.cvtColor(frame, cv.COLOR_BGR2GRAY)\n",
        "        blur = cv.medianBlur(frame, 5)\n",
        "        cvtHSV = cv.cvtColor(blur, cv.COLOR_BGR2HSV)\n",
        "\n",
        "        lower, upper = hsvRanges[default_color]\n",
        "        mask = cv.inRange(cvtHSV, lower, upper)\n",
        "\n",
        "        kernel = np.ones((7, 7), np.uint8)\n",
        "        mask = cv.morphologyEx(mask, cv.MORPH_OPEN, kernel)\n",
        "        mask = cv.morphologyEx(mask, cv.MORPH_DILATE, kernel)\n",
        "\n",
        "        inv_mask = cv.bitwise_not(mask)\n",
        "        background_part = cv.bitwise_and(background, background, mask=mask)\n",
        "        foreground_part = cv.bitwise_and(frame, frame, mask=inv_mask)\n",
        "\n",
        "        final = cv.addWeighted(background_part, 1, foreground_part, 1, 0)\n",
        "        cv.imshow(\"Invisibility Effect\", final)\n",
        "\n",
        "        if cv.waitKey(1) & 0xFF == ord('q'): # Press 'q' to exit\n",
        "            break\n",
        "\n",
        "    cap.release()\n",
        "    cv.destroyAllWindows()"
      ],
      "metadata": {
        "id": "_Rbg7VTRIK0s"
      },
      "execution_count": null,
      "outputs": []
    },
    {
      "cell_type": "code",
      "source": [
        "# Call Function\n",
        "\n",
        "if __name__ == \"__main__\":\n",
        "    run_app()"
      ],
      "metadata": {
        "id": "bKBqxcv0IW-V"
      },
      "execution_count": null,
      "outputs": []
    }
  ]
}